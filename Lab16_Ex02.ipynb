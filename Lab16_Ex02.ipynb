{
 "cells": [
  {
   "cell_type": "markdown",
   "metadata": {},
   "source": [
    "# Lab 16 Exercise 2"
   ]
  },
  {
   "cell_type": "markdown",
   "metadata": {},
   "source": [
    "## Abstract class"
   ]
  },
  {
   "cell_type": "markdown",
   "metadata": {},
   "source": [
    "![alt text](./Pictures/image02.png)\n"
   ]
  },
  {
   "cell_type": "markdown",
   "metadata": {},
   "source": [
    "1.สร้าง console application project\n",
    "\n",
    "```cmd\n",
    "dotnet new console --name Lab16_Ex02\n",
    "```"
   ]
  },
  {
   "cell_type": "markdown",
   "metadata": {},
   "source": [
    "2.เปลี่ยน code ให้เป็นดังต่อไปนี้\n",
    "\n",
    "```csharp\n",
    "Shape[] shapes = new Shape[3];\n",
    "shapes[0] = new Rectangle();\n",
    "shapes[1] = new Triangle();\n",
    "shapes[2] = new Circle();\n",
    "\n",
    "foreach (var shape in shapes)\n",
    "{\n",
    "    shape.Draw();\n",
    "}\n",
    "\n",
    "abstract class Shape\n",
    "{\n",
    "    public abstract void Draw();\n",
    "}\n",
    "class Rectangle: Shape\n",
    "{\n",
    "    public override void Draw()\n",
    "    {\n",
    "        System.Console.WriteLine(\"Draw a rectangle\");\n",
    "    }\n",
    "}\n",
    "class Triangle: Shape\n",
    "{\n",
    "    public override void Draw()\n",
    "    {\n",
    "        System.Console.WriteLine(\"Draw a triangle\");\n",
    "    }\n",
    "}\n",
    "class Circle: Shape\n",
    "{\n",
    "    public override void Draw()\n",
    "    {\n",
    "        System.Console.WriteLine(\"Draw a circle\");\n",
    "    }\n",
    "}\n",
    "```"
   ]
  },
  {
   "cell_type": "markdown",
   "metadata": {},
   "source": [
    "3.Build project โดยการใช้คำสั่ง\n",
    "\n",
    "```cmd\n",
    "dotnet build  Lab16_Ex02\n",
    "```\n",
    "\n",
    "ถ้ามีที่ผิดพลาดในโปรแกรม ให้แก้ไขให้ถูกต้อง"
   ]
  },
  {
   "cell_type": "markdown",
   "metadata": {},
   "source": [
    "4.บันทึกผลที่ได้จากการรันคำสั่งในข้อ 3"
   ]
  },
  {
   "cell_type": "markdown",
   "metadata": {},
   "source": [
    "Build succeeded"
   ]
  },
  {
   "cell_type": "markdown",
   "metadata": {},
   "source": [
    "5.Run project โดยการใช้คำสั่ง\n",
    "\n",
    "```cmd\n",
    "dotnet run --project Lab16_Ex02\n",
    "```"
   ]
  },
  {
   "cell_type": "markdown",
   "metadata": {},
   "source": [
    "6.บันทึกผลที่ได้จากการรันคำสั่งในข้อ 5"
   ]
  },
  {
   "cell_type": "markdown",
   "metadata": {},
   "source": [
    "Draw a rectangle\n",
    "\n",
    "Draw a triangle\n",
    "\n",
    "Draw a circle"
   ]
  },
  {
   "cell_type": "markdown",
   "metadata": {},
   "source": [
    "7.อธิบายสิ่งที่พบในการทดลอง"
   ]
  },
  {
   "cell_type": "markdown",
   "metadata": {},
   "source": [
    "การใช้ abstract class และ method overriding ทำให้สามารถเขียนโค้ดที่สามารถทำงานกับอ็อบเจ็กต์ที่แตกต่างกันได้ โดยไม่ต้องรู้จักชนิดของอ็อบเจ็กต์ที่แท้จริงจนกว่าจะถึงเวลา runtime"
   ]
  }
 ],
 "metadata": {
  "kernelspec": {
   "display_name": ".NET (C#)",
   "language": "C#",
   "name": ".net-csharp"
  },
  "polyglot_notebook": {
   "kernelInfo": {
    "defaultKernelName": "csharp",
    "items": [
     {
      "aliases": [],
      "languageName": "csharp",
      "name": "csharp"
     }
    ]
   }
  }
 },
 "nbformat": 4,
 "nbformat_minor": 2
}
